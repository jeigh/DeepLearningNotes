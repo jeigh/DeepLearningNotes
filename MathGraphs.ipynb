{
 "cells": [
  {
   "cell_type": "markdown",
   "metadata": {},
   "source": [
    "# Equation Graphs\n",
    "## Linear\n",
    "$$\n",
    "f(x) = mx + b\n",
    "$$\n",
    "## Quadratic\n",
    "$$\n",
    "f(x) = ax^2 + bx + c\n",
    "$$\n",
    "## Cubic\n",
    "$$\n",
    "f(x) = ax^3 + bx^2 + cx + d\n",
    "$$\n",
    "## Rational\n",
    "$$\n",
    "f(x) = \\frac{ax + b}{cx + d}\n",
    "$$\n",
    "\n",
    "## Exponential\n",
    "$$\n",
    "f(x) = ab^x\n",
    "$$\n",
    "## Logarithmic\n",
    "$$\n",
    "f(x) = a \\log_b(x)\n",
    "$$\n",
    "## Logistic\n",
    "$$\n",
    "f(x) = \\frac{L}{1 + e^{-k(x-x_0)}}\n",
    "$$\n",
    "## Sine\n",
    "$$\n",
    "f(x) = A \\sin(B(x - C)) + D\n",
    "$$\n",
    "## Tan\n",
    "$$\n",
    "f(x) = A \\tan(B(x - C)) + D\n",
    "$$\n"
   ]
  }
 ],
 "metadata": {
  "language_info": {
   "name": "python"
  }
 },
 "nbformat": 4,
 "nbformat_minor": 2
}
